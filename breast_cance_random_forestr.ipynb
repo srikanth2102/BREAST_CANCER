{
  "nbformat": 4,
  "nbformat_minor": 0,
  "metadata": {
    "colab": {
      "name": "breast_cance_random_forestr.ipynb",
      "provenance": [],
      "collapsed_sections": [],
      "authorship_tag": "ABX9TyMtRcSKMt9gJ6iIAmGwuk8z",
      "include_colab_link": true
    },
    "kernelspec": {
      "name": "python3",
      "display_name": "Python 3"
    },
    "language_info": {
      "name": "python"
    }
  },
  "cells": [
    {
      "cell_type": "markdown",
      "metadata": {
        "id": "view-in-github",
        "colab_type": "text"
      },
      "source": [
        "<a href=\"https://colab.research.google.com/github/srikanth2102/BREAST_CANCER/blob/main/breast_cance_random_forestr.ipynb\" target=\"_parent\"><img src=\"https://colab.research.google.com/assets/colab-badge.svg\" alt=\"Open In Colab\"/></a>"
      ]
    },
    {
      "cell_type": "markdown",
      "metadata": {
        "id": "Vr-jSpGJd1jf"
      },
      "source": [
        "# **BREAST CANCER PREDICTION**"
      ]
    },
    {
      "cell_type": "code",
      "metadata": {
        "id": "tnVFzODydy68"
      },
      "source": [
        "#importing libraries\n",
        "import pandas as pd\n",
        "import numpy as np\n",
        "import seaborn as sns\n",
        "import matplotlib.pyplot as plt\n",
        "from sklearn.model_selection import train_test_split"
      ],
      "execution_count": 79,
      "outputs": []
    },
    {
      "cell_type": "code",
      "metadata": {
        "colab": {
          "resources": {
            "http://localhost:8080/nbextensions/google.colab/files.js": {
              "data": "Ly8gQ29weXJpZ2h0IDIwMTcgR29vZ2xlIExMQwovLwovLyBMaWNlbnNlZCB1bmRlciB0aGUgQXBhY2hlIExpY2Vuc2UsIFZlcnNpb24gMi4wICh0aGUgIkxpY2Vuc2UiKTsKLy8geW91IG1heSBub3QgdXNlIHRoaXMgZmlsZSBleGNlcHQgaW4gY29tcGxpYW5jZSB3aXRoIHRoZSBMaWNlbnNlLgovLyBZb3UgbWF5IG9idGFpbiBhIGNvcHkgb2YgdGhlIExpY2Vuc2UgYXQKLy8KLy8gICAgICBodHRwOi8vd3d3LmFwYWNoZS5vcmcvbGljZW5zZXMvTElDRU5TRS0yLjAKLy8KLy8gVW5sZXNzIHJlcXVpcmVkIGJ5IGFwcGxpY2FibGUgbGF3IG9yIGFncmVlZCB0byBpbiB3cml0aW5nLCBzb2Z0d2FyZQovLyBkaXN0cmlidXRlZCB1bmRlciB0aGUgTGljZW5zZSBpcyBkaXN0cmlidXRlZCBvbiBhbiAiQVMgSVMiIEJBU0lTLAovLyBXSVRIT1VUIFdBUlJBTlRJRVMgT1IgQ09ORElUSU9OUyBPRiBBTlkgS0lORCwgZWl0aGVyIGV4cHJlc3Mgb3IgaW1wbGllZC4KLy8gU2VlIHRoZSBMaWNlbnNlIGZvciB0aGUgc3BlY2lmaWMgbGFuZ3VhZ2UgZ292ZXJuaW5nIHBlcm1pc3Npb25zIGFuZAovLyBsaW1pdGF0aW9ucyB1bmRlciB0aGUgTGljZW5zZS4KCi8qKgogKiBAZmlsZW92ZXJ2aWV3IEhlbHBlcnMgZm9yIGdvb2dsZS5jb2xhYiBQeXRob24gbW9kdWxlLgogKi8KKGZ1bmN0aW9uKHNjb3BlKSB7CmZ1bmN0aW9uIHNwYW4odGV4dCwgc3R5bGVBdHRyaWJ1dGVzID0ge30pIHsKICBjb25zdCBlbGVtZW50ID0gZG9jdW1lbnQuY3JlYXRlRWxlbWVudCgnc3BhbicpOwogIGVsZW1lbnQudGV4dENvbnRlbnQgPSB0ZXh0OwogIGZvciAoY29uc3Qga2V5IG9mIE9iamVjdC5rZXlzKHN0eWxlQXR0cmlidXRlcykpIHsKICAgIGVsZW1lbnQuc3R5bGVba2V5XSA9IHN0eWxlQXR0cmlidXRlc1trZXldOwogIH0KICByZXR1cm4gZWxlbWVudDsKfQoKLy8gTWF4IG51bWJlciBvZiBieXRlcyB3aGljaCB3aWxsIGJlIHVwbG9hZGVkIGF0IGEgdGltZS4KY29uc3QgTUFYX1BBWUxPQURfU0laRSA9IDEwMCAqIDEwMjQ7CgpmdW5jdGlvbiBfdXBsb2FkRmlsZXMoaW5wdXRJZCwgb3V0cHV0SWQpIHsKICBjb25zdCBzdGVwcyA9IHVwbG9hZEZpbGVzU3RlcChpbnB1dElkLCBvdXRwdXRJZCk7CiAgY29uc3Qgb3V0cHV0RWxlbWVudCA9IGRvY3VtZW50LmdldEVsZW1lbnRCeUlkKG91dHB1dElkKTsKICAvLyBDYWNoZSBzdGVwcyBvbiB0aGUgb3V0cHV0RWxlbWVudCB0byBtYWtlIGl0IGF2YWlsYWJsZSBmb3IgdGhlIG5leHQgY2FsbAogIC8vIHRvIHVwbG9hZEZpbGVzQ29udGludWUgZnJvbSBQeXRob24uCiAgb3V0cHV0RWxlbWVudC5zdGVwcyA9IHN0ZXBzOwoKICByZXR1cm4gX3VwbG9hZEZpbGVzQ29udGludWUob3V0cHV0SWQpOwp9CgovLyBUaGlzIGlzIHJvdWdobHkgYW4gYXN5bmMgZ2VuZXJhdG9yIChub3Qgc3VwcG9ydGVkIGluIHRoZSBicm93c2VyIHlldCksCi8vIHdoZXJlIHRoZXJlIGFyZSBtdWx0aXBsZSBhc3luY2hyb25vdXMgc3RlcHMgYW5kIHRoZSBQeXRob24gc2lkZSBpcyBnb2luZwovLyB0byBwb2xsIGZvciBjb21wbGV0aW9uIG9mIGVhY2ggc3RlcC4KLy8gVGhpcyB1c2VzIGEgUHJvbWlzZSB0byBibG9jayB0aGUgcHl0aG9uIHNpZGUgb24gY29tcGxldGlvbiBvZiBlYWNoIHN0ZXAsCi8vIHRoZW4gcGFzc2VzIHRoZSByZXN1bHQgb2YgdGhlIHByZXZpb3VzIHN0ZXAgYXMgdGhlIGlucHV0IHRvIHRoZSBuZXh0IHN0ZXAuCmZ1bmN0aW9uIF91cGxvYWRGaWxlc0NvbnRpbnVlKG91dHB1dElkKSB7CiAgY29uc3Qgb3V0cHV0RWxlbWVudCA9IGRvY3VtZW50LmdldEVsZW1lbnRCeUlkKG91dHB1dElkKTsKICBjb25zdCBzdGVwcyA9IG91dHB1dEVsZW1lbnQuc3RlcHM7CgogIGNvbnN0IG5leHQgPSBzdGVwcy5uZXh0KG91dHB1dEVsZW1lbnQubGFzdFByb21pc2VWYWx1ZSk7CiAgcmV0dXJuIFByb21pc2UucmVzb2x2ZShuZXh0LnZhbHVlLnByb21pc2UpLnRoZW4oKHZhbHVlKSA9PiB7CiAgICAvLyBDYWNoZSB0aGUgbGFzdCBwcm9taXNlIHZhbHVlIHRvIG1ha2UgaXQgYXZhaWxhYmxlIHRvIHRoZSBuZXh0CiAgICAvLyBzdGVwIG9mIHRoZSBnZW5lcmF0b3IuCiAgICBvdXRwdXRFbGVtZW50Lmxhc3RQcm9taXNlVmFsdWUgPSB2YWx1ZTsKICAgIHJldHVybiBuZXh0LnZhbHVlLnJlc3BvbnNlOwogIH0pOwp9CgovKioKICogR2VuZXJhdG9yIGZ1bmN0aW9uIHdoaWNoIGlzIGNhbGxlZCBiZXR3ZWVuIGVhY2ggYXN5bmMgc3RlcCBvZiB0aGUgdXBsb2FkCiAqIHByb2Nlc3MuCiAqIEBwYXJhbSB7c3RyaW5nfSBpbnB1dElkIEVsZW1lbnQgSUQgb2YgdGhlIGlucHV0IGZpbGUgcGlja2VyIGVsZW1lbnQuCiAqIEBwYXJhbSB7c3RyaW5nfSBvdXRwdXRJZCBFbGVtZW50IElEIG9mIHRoZSBvdXRwdXQgZGlzcGxheS4KICogQHJldHVybiB7IUl0ZXJhYmxlPCFPYmplY3Q+fSBJdGVyYWJsZSBvZiBuZXh0IHN0ZXBzLgogKi8KZnVuY3Rpb24qIHVwbG9hZEZpbGVzU3RlcChpbnB1dElkLCBvdXRwdXRJZCkgewogIGNvbnN0IGlucHV0RWxlbWVudCA9IGRvY3VtZW50LmdldEVsZW1lbnRCeUlkKGlucHV0SWQpOwogIGlucHV0RWxlbWVudC5kaXNhYmxlZCA9IGZhbHNlOwoKICBjb25zdCBvdXRwdXRFbGVtZW50ID0gZG9jdW1lbnQuZ2V0RWxlbWVudEJ5SWQob3V0cHV0SWQpOwogIG91dHB1dEVsZW1lbnQuaW5uZXJIVE1MID0gJyc7CgogIGNvbnN0IHBpY2tlZFByb21pc2UgPSBuZXcgUHJvbWlzZSgocmVzb2x2ZSkgPT4gewogICAgaW5wdXRFbGVtZW50LmFkZEV2ZW50TGlzdGVuZXIoJ2NoYW5nZScsIChlKSA9PiB7CiAgICAgIHJlc29sdmUoZS50YXJnZXQuZmlsZXMpOwogICAgfSk7CiAgfSk7CgogIGNvbnN0IGNhbmNlbCA9IGRvY3VtZW50LmNyZWF0ZUVsZW1lbnQoJ2J1dHRvbicpOwogIGlucHV0RWxlbWVudC5wYXJlbnRFbGVtZW50LmFwcGVuZENoaWxkKGNhbmNlbCk7CiAgY2FuY2VsLnRleHRDb250ZW50ID0gJ0NhbmNlbCB1cGxvYWQnOwogIGNvbnN0IGNhbmNlbFByb21pc2UgPSBuZXcgUHJvbWlzZSgocmVzb2x2ZSkgPT4gewogICAgY2FuY2VsLm9uY2xpY2sgPSAoKSA9PiB7CiAgICAgIHJlc29sdmUobnVsbCk7CiAgICB9OwogIH0pOwoKICAvLyBXYWl0IGZvciB0aGUgdXNlciB0byBwaWNrIHRoZSBmaWxlcy4KICBjb25zdCBmaWxlcyA9IHlpZWxkIHsKICAgIHByb21pc2U6IFByb21pc2UucmFjZShbcGlja2VkUHJvbWlzZSwgY2FuY2VsUHJvbWlzZV0pLAogICAgcmVzcG9uc2U6IHsKICAgICAgYWN0aW9uOiAnc3RhcnRpbmcnLAogICAgfQogIH07CgogIGNhbmNlbC5yZW1vdmUoKTsKCiAgLy8gRGlzYWJsZSB0aGUgaW5wdXQgZWxlbWVudCBzaW5jZSBmdXJ0aGVyIHBpY2tzIGFyZSBub3QgYWxsb3dlZC4KICBpbnB1dEVsZW1lbnQuZGlzYWJsZWQgPSB0cnVlOwoKICBpZiAoIWZpbGVzKSB7CiAgICByZXR1cm4gewogICAgICByZXNwb25zZTogewogICAgICAgIGFjdGlvbjogJ2NvbXBsZXRlJywKICAgICAgfQogICAgfTsKICB9CgogIGZvciAoY29uc3QgZmlsZSBvZiBmaWxlcykgewogICAgY29uc3QgbGkgPSBkb2N1bWVudC5jcmVhdGVFbGVtZW50KCdsaScpOwogICAgbGkuYXBwZW5kKHNwYW4oZmlsZS5uYW1lLCB7Zm9udFdlaWdodDogJ2JvbGQnfSkpOwogICAgbGkuYXBwZW5kKHNwYW4oCiAgICAgICAgYCgke2ZpbGUudHlwZSB8fCAnbi9hJ30pIC0gJHtmaWxlLnNpemV9IGJ5dGVzLCBgICsKICAgICAgICBgbGFzdCBtb2RpZmllZDogJHsKICAgICAgICAgICAgZmlsZS5sYXN0TW9kaWZpZWREYXRlID8gZmlsZS5sYXN0TW9kaWZpZWREYXRlLnRvTG9jYWxlRGF0ZVN0cmluZygpIDoKICAgICAgICAgICAgICAgICAgICAgICAgICAgICAgICAgICAgJ24vYSd9IC0gYCkpOwogICAgY29uc3QgcGVyY2VudCA9IHNwYW4oJzAlIGRvbmUnKTsKICAgIGxpLmFwcGVuZENoaWxkKHBlcmNlbnQpOwoKICAgIG91dHB1dEVsZW1lbnQuYXBwZW5kQ2hpbGQobGkpOwoKICAgIGNvbnN0IGZpbGVEYXRhUHJvbWlzZSA9IG5ldyBQcm9taXNlKChyZXNvbHZlKSA9PiB7CiAgICAgIGNvbnN0IHJlYWRlciA9IG5ldyBGaWxlUmVhZGVyKCk7CiAgICAgIHJlYWRlci5vbmxvYWQgPSAoZSkgPT4gewogICAgICAgIHJlc29sdmUoZS50YXJnZXQucmVzdWx0KTsKICAgICAgfTsKICAgICAgcmVhZGVyLnJlYWRBc0FycmF5QnVmZmVyKGZpbGUpOwogICAgfSk7CiAgICAvLyBXYWl0IGZvciB0aGUgZGF0YSB0byBiZSByZWFkeS4KICAgIGxldCBmaWxlRGF0YSA9IHlpZWxkIHsKICAgICAgcHJvbWlzZTogZmlsZURhdGFQcm9taXNlLAogICAgICByZXNwb25zZTogewogICAgICAgIGFjdGlvbjogJ2NvbnRpbnVlJywKICAgICAgfQogICAgfTsKCiAgICAvLyBVc2UgYSBjaHVua2VkIHNlbmRpbmcgdG8gYXZvaWQgbWVzc2FnZSBzaXplIGxpbWl0cy4gU2VlIGIvNjIxMTU2NjAuCiAgICBsZXQgcG9zaXRpb24gPSAwOwogICAgZG8gewogICAgICBjb25zdCBsZW5ndGggPSBNYXRoLm1pbihmaWxlRGF0YS5ieXRlTGVuZ3RoIC0gcG9zaXRpb24sIE1BWF9QQVlMT0FEX1NJWkUpOwogICAgICBjb25zdCBjaHVuayA9IG5ldyBVaW50OEFycmF5KGZpbGVEYXRhLCBwb3NpdGlvbiwgbGVuZ3RoKTsKICAgICAgcG9zaXRpb24gKz0gbGVuZ3RoOwoKICAgICAgY29uc3QgYmFzZTY0ID0gYnRvYShTdHJpbmcuZnJvbUNoYXJDb2RlLmFwcGx5KG51bGwsIGNodW5rKSk7CiAgICAgIHlpZWxkIHsKICAgICAgICByZXNwb25zZTogewogICAgICAgICAgYWN0aW9uOiAnYXBwZW5kJywKICAgICAgICAgIGZpbGU6IGZpbGUubmFtZSwKICAgICAgICAgIGRhdGE6IGJhc2U2NCwKICAgICAgICB9LAogICAgICB9OwoKICAgICAgbGV0IHBlcmNlbnREb25lID0gZmlsZURhdGEuYnl0ZUxlbmd0aCA9PT0gMCA/CiAgICAgICAgICAxMDAgOgogICAgICAgICAgTWF0aC5yb3VuZCgocG9zaXRpb24gLyBmaWxlRGF0YS5ieXRlTGVuZ3RoKSAqIDEwMCk7CiAgICAgIHBlcmNlbnQudGV4dENvbnRlbnQgPSBgJHtwZXJjZW50RG9uZX0lIGRvbmVgOwoKICAgIH0gd2hpbGUgKHBvc2l0aW9uIDwgZmlsZURhdGEuYnl0ZUxlbmd0aCk7CiAgfQoKICAvLyBBbGwgZG9uZS4KICB5aWVsZCB7CiAgICByZXNwb25zZTogewogICAgICBhY3Rpb246ICdjb21wbGV0ZScsCiAgICB9CiAgfTsKfQoKc2NvcGUuZ29vZ2xlID0gc2NvcGUuZ29vZ2xlIHx8IHt9OwpzY29wZS5nb29nbGUuY29sYWIgPSBzY29wZS5nb29nbGUuY29sYWIgfHwge307CnNjb3BlLmdvb2dsZS5jb2xhYi5fZmlsZXMgPSB7CiAgX3VwbG9hZEZpbGVzLAogIF91cGxvYWRGaWxlc0NvbnRpbnVlLAp9Owp9KShzZWxmKTsK",
              "ok": true,
              "headers": [
                [
                  "content-type",
                  "application/javascript"
                ]
              ],
              "status": 200,
              "status_text": ""
            }
          },
          "base_uri": "https://localhost:8080/",
          "height": 38
        },
        "id": "Qjr3m_CUeGhd",
        "outputId": "740be04d-995c-496d-b542-38962a9b485d"
      },
      "source": [
        "#uploading the file in the device to google colab\n",
        "from google.colab import files\n",
        "uploaded = files.upload()"
      ],
      "execution_count": 80,
      "outputs": [
        {
          "output_type": "display_data",
          "data": {
            "text/html": [
              "\n",
              "     <input type=\"file\" id=\"files-3280fcc9-58a0-49cf-9ea5-8d91ac5dac6e\" name=\"files[]\" multiple disabled\n",
              "        style=\"border:none\" />\n",
              "     <output id=\"result-3280fcc9-58a0-49cf-9ea5-8d91ac5dac6e\">\n",
              "      Upload widget is only available when the cell has been executed in the\n",
              "      current browser session. Please rerun this cell to enable.\n",
              "      </output>\n",
              "      <script src=\"/nbextensions/google.colab/files.js\"></script> "
            ],
            "text/plain": [
              "<IPython.core.display.HTML object>"
            ]
          },
          "metadata": {
            "tags": []
          }
        }
      ]
    },
    {
      "cell_type": "code",
      "metadata": {
        "colab": {
          "base_uri": "https://localhost:8080/",
          "height": 220
        },
        "id": "iCTaR6iTeNQ3",
        "outputId": "4534d5d8-c53b-4a53-e36c-17bf6ece1ceb"
      },
      "source": [
        "#Reading File using Pandas\n",
        "cancer =pd.read_csv(\"Breast_cancer_data.csv\")\n",
        "print(cancer.shape)\n",
        "cancer.head()"
      ],
      "execution_count": 81,
      "outputs": [
        {
          "output_type": "stream",
          "text": [
            "(569, 6)\n"
          ],
          "name": "stdout"
        },
        {
          "output_type": "execute_result",
          "data": {
            "text/html": [
              "<div>\n",
              "<style scoped>\n",
              "    .dataframe tbody tr th:only-of-type {\n",
              "        vertical-align: middle;\n",
              "    }\n",
              "\n",
              "    .dataframe tbody tr th {\n",
              "        vertical-align: top;\n",
              "    }\n",
              "\n",
              "    .dataframe thead th {\n",
              "        text-align: right;\n",
              "    }\n",
              "</style>\n",
              "<table border=\"1\" class=\"dataframe\">\n",
              "  <thead>\n",
              "    <tr style=\"text-align: right;\">\n",
              "      <th></th>\n",
              "      <th>mean_radius</th>\n",
              "      <th>mean_texture</th>\n",
              "      <th>mean_perimeter</th>\n",
              "      <th>mean_area</th>\n",
              "      <th>mean_smoothness</th>\n",
              "      <th>diagnosis</th>\n",
              "    </tr>\n",
              "  </thead>\n",
              "  <tbody>\n",
              "    <tr>\n",
              "      <th>0</th>\n",
              "      <td>17.99</td>\n",
              "      <td>10.38</td>\n",
              "      <td>122.80</td>\n",
              "      <td>1001.0</td>\n",
              "      <td>0.11840</td>\n",
              "      <td>0</td>\n",
              "    </tr>\n",
              "    <tr>\n",
              "      <th>1</th>\n",
              "      <td>20.57</td>\n",
              "      <td>17.77</td>\n",
              "      <td>132.90</td>\n",
              "      <td>1326.0</td>\n",
              "      <td>0.08474</td>\n",
              "      <td>0</td>\n",
              "    </tr>\n",
              "    <tr>\n",
              "      <th>2</th>\n",
              "      <td>19.69</td>\n",
              "      <td>21.25</td>\n",
              "      <td>130.00</td>\n",
              "      <td>1203.0</td>\n",
              "      <td>0.10960</td>\n",
              "      <td>0</td>\n",
              "    </tr>\n",
              "    <tr>\n",
              "      <th>3</th>\n",
              "      <td>11.42</td>\n",
              "      <td>20.38</td>\n",
              "      <td>77.58</td>\n",
              "      <td>386.1</td>\n",
              "      <td>0.14250</td>\n",
              "      <td>0</td>\n",
              "    </tr>\n",
              "    <tr>\n",
              "      <th>4</th>\n",
              "      <td>20.29</td>\n",
              "      <td>14.34</td>\n",
              "      <td>135.10</td>\n",
              "      <td>1297.0</td>\n",
              "      <td>0.10030</td>\n",
              "      <td>0</td>\n",
              "    </tr>\n",
              "  </tbody>\n",
              "</table>\n",
              "</div>"
            ],
            "text/plain": [
              "   mean_radius  mean_texture  ...  mean_smoothness  diagnosis\n",
              "0        17.99         10.38  ...          0.11840          0\n",
              "1        20.57         17.77  ...          0.08474          0\n",
              "2        19.69         21.25  ...          0.10960          0\n",
              "3        11.42         20.38  ...          0.14250          0\n",
              "4        20.29         14.34  ...          0.10030          0\n",
              "\n",
              "[5 rows x 6 columns]"
            ]
          },
          "metadata": {
            "tags": []
          },
          "execution_count": 81
        }
      ]
    },
    {
      "cell_type": "code",
      "metadata": {
        "colab": {
          "base_uri": "https://localhost:8080/"
        },
        "id": "Y60ZmU6cGtnH",
        "outputId": "869f05fc-b673-4a56-8e1b-d254c6b9f636"
      },
      "source": [
        "#spliting cancer data into features and labels\n",
        "target=cancer['diagnosis']\n",
        "cancer.drop(['diagnosis'], axis=1, inplace=True)\n",
        "target.head()"
      ],
      "execution_count": 82,
      "outputs": [
        {
          "output_type": "execute_result",
          "data": {
            "text/plain": [
              "0    0\n",
              "1    0\n",
              "2    0\n",
              "3    0\n",
              "4    0\n",
              "Name: diagnosis, dtype: int64"
            ]
          },
          "metadata": {
            "tags": []
          },
          "execution_count": 82
        }
      ]
    },
    {
      "cell_type": "code",
      "metadata": {
        "id": "OWdfkLAaSJIG"
      },
      "source": [
        "from sklearn.preprocessing import MinMaxScaler\n",
        "# define min max scaler\n",
        "scaler = MinMaxScaler()\n",
        "# transform data\n",
        "scaled = scaler.fit_transform(cancer)"
      ],
      "execution_count": 83,
      "outputs": []
    },
    {
      "cell_type": "code",
      "metadata": {
        "id": "WacvmVbuh1bS",
        "colab": {
          "base_uri": "https://localhost:8080/"
        },
        "outputId": "936389fb-ff6b-46da-f881-2dcd36067a73"
      },
      "source": [
        "#spliting test data into test and validation\n",
        "from sklearn.model_selection import train_test_split\n",
        "\n",
        "train_x, dummy_x, train_y, dummy_y  = train_test_split(cancer , target, test_size=0.3,random_state=42)\n",
        "\n",
        "test_x, val_x, test_y, val_y = train_test_split(dummy_x, dummy_y, test_size=0.5, random_state=42)\n",
        "\n",
        "print(train_y.head())"
      ],
      "execution_count": 84,
      "outputs": [
        {
          "output_type": "stream",
          "text": [
            "149    1\n",
            "124    1\n",
            "421    1\n",
            "195    1\n",
            "545    1\n",
            "Name: diagnosis, dtype: int64\n"
          ],
          "name": "stdout"
        }
      ]
    },
    {
      "cell_type": "code",
      "metadata": {
        "id": "O3ByAohIuLZz"
      },
      "source": [
        "#creating a dictionary to store F1 score\n",
        "models=dict()"
      ],
      "execution_count": 85,
      "outputs": []
    },
    {
      "cell_type": "markdown",
      "metadata": {
        "id": "QC7L95P5hMfg"
      },
      "source": [
        "**LOGISTIC REGRESSION**"
      ]
    },
    {
      "cell_type": "code",
      "metadata": {
        "id": "nGHZ_fZXhGtY",
        "colab": {
          "base_uri": "https://localhost:8080/"
        },
        "outputId": "59ccb8d1-5575-45ec-81e8-489d880b44c4"
      },
      "source": [
        "#importing logistic regression and metrices\n",
        "from sklearn.linear_model import LogisticRegression\n",
        "from sklearn.metrics import f1_score\n",
        "from sklearn.metrics import accuracy_score\n",
        "from sklearn.metrics import recall_score\n",
        "from sklearn.metrics import precision_score\n",
        "\n",
        "#model fitting\n",
        "log_reg=LogisticRegression(C=1000)\n",
        "log_reg.fit(train_x, train_y)\n",
        "\n",
        "#predicting validation set\n",
        "pred_log_reg = log_reg.predict(val_x)\n",
        "temp = log_reg.predict(train_x) \n",
        "\n",
        "#accuracy on validation set\n",
        "print(\"accuray on validation set\",accuracy_score(val_y,pred_log_reg),\"\\n\")\n",
        "\n",
        "#precision on validation set\n",
        "print(\"precision on validation set\",precision_score(val_y,pred_log_reg),\"\\n\")\n",
        "\n",
        "#recall on validation set\n",
        "print(\"recall on validation set\",recall_score(val_y,pred_log_reg),\"\\n\")\n",
        "\n",
        "#F1 score on validation set\n",
        "print(\"F1 score of validation set\",f1_score(val_y,pred_log_reg),\"\\n\")"
      ],
      "execution_count": 119,
      "outputs": [
        {
          "output_type": "stream",
          "text": [
            "accuray on validation set 0.9767441860465116 \n",
            "\n",
            "precision on validation set 1.0 \n",
            "\n",
            "recall on validation set 0.9666666666666667 \n",
            "\n",
            "F1 score of validation set 0.983050847457627 \n",
            "\n"
          ],
          "name": "stdout"
        }
      ]
    },
    {
      "cell_type": "code",
      "metadata": {
        "id": "5sTFNHHquW7z"
      },
      "source": [
        "models['log_reg']=f1_score(val_y,pred_log_reg)"
      ],
      "execution_count": 120,
      "outputs": []
    },
    {
      "cell_type": "markdown",
      "metadata": {
        "id": "IQnonioUUmu_"
      },
      "source": [
        "**SUPPORT VECTOR MACHINE**"
      ]
    },
    {
      "cell_type": "code",
      "metadata": {
        "colab": {
          "base_uri": "https://localhost:8080/"
        },
        "id": "LryzEftWUlsd",
        "outputId": "d7867144-cc90-4094-da43-9da7b1239e62"
      },
      "source": [
        "#Imprting SVC(support vector machine for classification)\n",
        "from sklearn.svm import SVC\n",
        "\n",
        "#model fitting\n",
        "svm=SVC(kernel='rbf', C=1, gamma=.01)\n",
        "print(svm)\n",
        "svm.fit(train_x,train_y)\n",
        "\n",
        "#prediction on validation set\n",
        "pred_svm=svm.predict(val_x)\n",
        "temp=svm.predict(train_x)\n",
        "\n",
        "#accuracy on validation set\n",
        "print(\"accuray on validation set\",accuracy_score(val_y,pred_svm),\"\\n\")\n",
        "\n",
        "#precision on validation set\n",
        "print(\"precision on validation set\",precision_score(val_y,pred_svm),\"\\n\")\n",
        "\n",
        "#recall on validation set\n",
        "print(\"recall on validation set\",recall_score(val_y,pred_svm),\"\\n\")\n",
        "#F1 score on validation set\n",
        "print(\"F1 score of validation set\",f1_score(val_y,pred_svm),\"\\n\")"
      ],
      "execution_count": 121,
      "outputs": [
        {
          "output_type": "stream",
          "text": [
            "SVC(C=1, break_ties=False, cache_size=200, class_weight=None, coef0=0.0,\n",
            "    decision_function_shape='ovr', degree=3, gamma=0.01, kernel='rbf',\n",
            "    max_iter=-1, probability=False, random_state=None, shrinking=True,\n",
            "    tol=0.001, verbose=False)\n",
            "accuray on validation set 0.9069767441860465 \n",
            "\n",
            "precision on validation set 0.9333333333333333 \n",
            "\n",
            "recall on validation set 0.9333333333333333 \n",
            "\n",
            "F1 score of validation set 0.9333333333333333 \n",
            "\n"
          ],
          "name": "stdout"
        }
      ]
    },
    {
      "cell_type": "code",
      "metadata": {
        "id": "wJcOfYPgujUo"
      },
      "source": [
        "models['svm']=f1_score(val_y,pred_svm)"
      ],
      "execution_count": 122,
      "outputs": []
    },
    {
      "cell_type": "markdown",
      "metadata": {
        "id": "QnNJ9qgKbAIH"
      },
      "source": [
        "**DECISION TREE**"
      ]
    },
    {
      "cell_type": "code",
      "metadata": {
        "colab": {
          "base_uri": "https://localhost:8080/"
        },
        "id": "usRvq9gqbEuo",
        "outputId": "a9898166-218a-4faa-87c4-485f23130027"
      },
      "source": [
        "#importing decision tree classifier\n",
        "from sklearn.tree import DecisionTreeClassifier\n",
        "\n",
        "#model fitting\n",
        "tree=DecisionTreeClassifier(max_depth=15, max_leaf_nodes=10)\n",
        "print(tree)\n",
        "tree.fit(train_x,train_y)\n",
        "\n",
        "#prediction on validation set\n",
        "pred_tree=tree.predict(val_x)\n",
        "\n",
        "#accuracy on validation set\n",
        "print(\"accuray on validation set\",accuracy_score(val_y,pred_tree),\"\\n\")\n",
        "\n",
        "#precision on validation set\n",
        "print(\"precision on validation set\",precision_score(val_y,pred_tree),\"\\n\")\n",
        "\n",
        "#recall on validation set\n",
        "print(\"recall on validation set\",recall_score(val_y,pred_tree),\"\\n\")\n",
        "\n",
        "#F1 score on validation set\n",
        "print(\"F1 score of validation set\",f1_score(val_y,pred_tree),\"\\n\")"
      ],
      "execution_count": 123,
      "outputs": [
        {
          "output_type": "stream",
          "text": [
            "DecisionTreeClassifier(ccp_alpha=0.0, class_weight=None, criterion='gini',\n",
            "                       max_depth=15, max_features=None, max_leaf_nodes=10,\n",
            "                       min_impurity_decrease=0.0, min_impurity_split=None,\n",
            "                       min_samples_leaf=1, min_samples_split=2,\n",
            "                       min_weight_fraction_leaf=0.0, presort='deprecated',\n",
            "                       random_state=None, splitter='best')\n",
            "accuray on validation set 0.9534883720930233 \n",
            "\n",
            "precision on validation set 0.9516129032258065 \n",
            "\n",
            "recall on validation set 0.9833333333333333 \n",
            "\n",
            "F1 score of validation set 0.9672131147540983 \n",
            "\n"
          ],
          "name": "stdout"
        }
      ]
    },
    {
      "cell_type": "code",
      "metadata": {
        "id": "OlxBsxwQuodX"
      },
      "source": [
        "models['tree']=f1_score(val_y,pred_tree)"
      ],
      "execution_count": 124,
      "outputs": []
    },
    {
      "cell_type": "markdown",
      "metadata": {
        "id": "rGWGTgSDdeTG"
      },
      "source": [
        "**RANDOM FOREST**"
      ]
    },
    {
      "cell_type": "code",
      "metadata": {
        "colab": {
          "base_uri": "https://localhost:8080/"
        },
        "id": "Imc3rjYadY7E",
        "outputId": "4058632e-617f-4220-a987-69e870d8dcb8"
      },
      "source": [
        "#importing random forest classifier\n",
        "from sklearn.ensemble import RandomForestClassifier\n",
        "\n",
        "#model fitting\n",
        "forest=RandomForestClassifier(max_features='auto', n_estimators=1000)\n",
        "print(forest)\n",
        "forest.fit(train_x,train_y)\n",
        "\n",
        "#prediction on validation set\n",
        "pred_forest=forest.predict(val_x)\n",
        "temp=forest.predict(train_x)\n",
        "\n",
        "#accuracy on validation set\n",
        "print(\"accuray on validation set\",accuracy_score(val_y,pred_forest),\"\\n\")\n",
        "\n",
        "#precision on validation set\n",
        "print(\"precision on validation set\",precision_score(val_y,pred_svm),\"\\n\")\n",
        "\n",
        "#recall on validation set\n",
        "print(\"recall on validation set\",recall_score(val_y,pred_svm),\"\\n\")\n",
        "\n",
        "#F1 score on validation set\n",
        "print(\"F1 score of validation set\",f1_score(val_y,pred_forest),\"\\n\")"
      ],
      "execution_count": 125,
      "outputs": [
        {
          "output_type": "stream",
          "text": [
            "RandomForestClassifier(bootstrap=True, ccp_alpha=0.0, class_weight=None,\n",
            "                       criterion='gini', max_depth=None, max_features='auto',\n",
            "                       max_leaf_nodes=None, max_samples=None,\n",
            "                       min_impurity_decrease=0.0, min_impurity_split=None,\n",
            "                       min_samples_leaf=1, min_samples_split=2,\n",
            "                       min_weight_fraction_leaf=0.0, n_estimators=1000,\n",
            "                       n_jobs=None, oob_score=False, random_state=None,\n",
            "                       verbose=0, warm_start=False)\n",
            "accuray on validation set 0.9883720930232558 \n",
            "\n",
            "precision on validation set 0.9333333333333333 \n",
            "\n",
            "recall on validation set 0.9333333333333333 \n",
            "\n",
            "F1 score of validation set 0.9915966386554621 \n",
            "\n"
          ],
          "name": "stdout"
        }
      ]
    },
    {
      "cell_type": "code",
      "metadata": {
        "id": "FpibDoM4uxbc"
      },
      "source": [
        "models['forest']=f1_score(val_y,pred_forest)"
      ],
      "execution_count": 126,
      "outputs": []
    },
    {
      "cell_type": "markdown",
      "metadata": {
        "id": "NgQxRE4jh76r"
      },
      "source": [
        "**BOOSTING (DECISION TREE)**"
      ]
    },
    {
      "cell_type": "code",
      "metadata": {
        "colab": {
          "base_uri": "https://localhost:8080/"
        },
        "id": "I-jGvQC1glZJ",
        "outputId": "6ccefeb9-7a77-466f-d07a-5cabf609870c"
      },
      "source": [
        "#importing boosting using decison tree classifier\n",
        "from sklearn.ensemble import GradientBoostingClassifier\n",
        "\n",
        "#model fitting\n",
        "boosting=GradientBoostingClassifier(max_features='auto',max_depth=3,n_estimators=2000,learning_rate=1)\n",
        "boosting.fit(train_x,train_y)\n",
        "\n",
        "#prediction on validation set\n",
        "pred_boosting=boosting.predict(val_x)\n",
        "\n",
        "#accuracy on validation set\n",
        "print(\"accuray on validation set\",accuracy_score(val_y,pred_boosting),\"\\n\")\n",
        "\n",
        "#precision on validation set\n",
        "print(\"precision on validation set\",precision_score(val_y,pred_boosting),\"\\n\")\n",
        "\n",
        "\n",
        "#recall on validation set\n",
        "print(\"recall on validation set\",recall_score(val_y,pred_boosting),\"\\n\")\n",
        "\n",
        "#F1 score on validation set \n",
        "print(\"F1 score of validation set\",f1_score(val_y,pred_boosting),\"\\n\")"
      ],
      "execution_count": 133,
      "outputs": [
        {
          "output_type": "stream",
          "text": [
            "accuray on validation set 0.9534883720930233 \n",
            "\n",
            "precision on validation set 0.9827586206896551 \n",
            "\n",
            "recall on validation set 0.95 \n",
            "\n",
            "F1 score of validation set 0.9661016949152542 \n",
            "\n"
          ],
          "name": "stdout"
        }
      ]
    },
    {
      "cell_type": "code",
      "metadata": {
        "id": "PwH4Vnfyu4ej"
      },
      "source": [
        "models['boosting']= f1_score(val_y,pred_boosting)"
      ],
      "execution_count": 134,
      "outputs": []
    },
    {
      "cell_type": "markdown",
      "metadata": {
        "id": "Q4-i7G2sp-_i"
      },
      "source": [
        "**MLP CLASSIFIER(NEURAL NETWORK)**"
      ]
    },
    {
      "cell_type": "code",
      "metadata": {
        "colab": {
          "base_uri": "https://localhost:8080/"
        },
        "id": "9VzuO893p-FE",
        "outputId": "277f8556-4cb3-4124-8912-e9a5553bc6ed"
      },
      "source": [
        "#importing MLP classifier\n",
        "from sklearn.neural_network import MLPClassifier\n",
        "\n",
        "#model fitting\n",
        "mlp=MLPClassifier(max_iter=400, activation='tanh', hidden_layer_sizes=(100,100), solver='lbfgs', alpha=1e-08)\n",
        "print(mlp)\n",
        "mlp.fit(train_x,train_y)\n",
        "\n",
        "#prediction on validation set\n",
        "pred_mlp= mlp.predict(val_x)\n",
        "temp= mlp.predict(train_x)\n",
        "\n",
        "#accuracy on validation set\n",
        "print(\"accuray on validation set\",accuracy_score(val_y,pred_mlp),\"\\n\")\n",
        "print(\"accuray on train set\",accuracy_score(train_y,temp),\"\\n\")\n",
        "\n",
        "#precision on validation set\n",
        "#print(\"precision on validation set\",precision_score(val_y,pred_mlp),\"\\n\")\n",
        "\n",
        "#recall on validation set\n",
        "#print(\"recall on validation set\",recall_score(val_y,pred_mlp),\"\\n\")\n",
        "\n",
        "#F1 score on validation set\n",
        "print(\"F1 score of validation set\",f1_score(val_y,pred_mlp),\"\\n\")\n",
        "print(\"F1 score of train set\",f1_score(train_y,temp),\"\\n\")"
      ],
      "execution_count": 135,
      "outputs": [
        {
          "output_type": "stream",
          "text": [
            "MLPClassifier(activation='tanh', alpha=1e-08, batch_size='auto', beta_1=0.9,\n",
            "              beta_2=0.999, early_stopping=False, epsilon=1e-08,\n",
            "              hidden_layer_sizes=(100, 100), learning_rate='constant',\n",
            "              learning_rate_init=0.001, max_fun=15000, max_iter=400,\n",
            "              momentum=0.9, n_iter_no_change=10, nesterovs_momentum=True,\n",
            "              power_t=0.5, random_state=None, shuffle=True, solver='lbfgs',\n",
            "              tol=0.0001, validation_fraction=0.1, verbose=False,\n",
            "              warm_start=False)\n",
            "accuray on validation set 0.9651162790697675 \n",
            "\n",
            "accuray on train set 0.914572864321608 \n",
            "\n",
            "F1 score of validation set 0.9743589743589743 \n",
            "\n",
            "F1 score of train set 0.9317269076305221 \n",
            "\n"
          ],
          "name": "stdout"
        },
        {
          "output_type": "stream",
          "text": [
            "/usr/local/lib/python3.7/dist-packages/sklearn/neural_network/_multilayer_perceptron.py:470: ConvergenceWarning: lbfgs failed to converge (status=1):\n",
            "STOP: TOTAL NO. of ITERATIONS REACHED LIMIT.\n",
            "\n",
            "Increase the number of iterations (max_iter) or scale the data as shown in:\n",
            "    https://scikit-learn.org/stable/modules/preprocessing.html\n",
            "  self.n_iter_ = _check_optimize_result(\"lbfgs\", opt_res, self.max_iter)\n"
          ],
          "name": "stderr"
        }
      ]
    },
    {
      "cell_type": "code",
      "metadata": {
        "colab": {
          "base_uri": "https://localhost:8080/"
        },
        "id": "qJWxnpnIvAoA",
        "outputId": "97eeb615-a3b4-4e16-e478-d83197dd1935"
      },
      "source": [
        "models['mlp'] = f1_score(val_y,pred_mlp)\n",
        "models"
      ],
      "execution_count": 136,
      "outputs": [
        {
          "output_type": "execute_result",
          "data": {
            "text/plain": [
              "{'boosting': 0.9661016949152542,\n",
              " 'forest': 0.9915966386554621,\n",
              " 'log_reg': 0.983050847457627,\n",
              " 'mlp': 0.9743589743589743,\n",
              " 'svm': 0.9333333333333333,\n",
              " 'tree': 0.9672131147540983}"
            ]
          },
          "metadata": {
            "tags": []
          },
          "execution_count": 136
        }
      ]
    },
    {
      "cell_type": "markdown",
      "metadata": {
        "id": "9qE0-lyKyaJM"
      },
      "source": [
        "**PLOTTING F1 SCORE OF MODELS**"
      ]
    },
    {
      "cell_type": "code",
      "metadata": {
        "colab": {
          "base_uri": "https://localhost:8080/",
          "height": 283
        },
        "id": "PrxVEGTHvf3K",
        "outputId": "edd8d05c-a95a-4a0f-f5dc-4d45a3b82fc8"
      },
      "source": [
        "import seaborn as sns\n",
        "sns.barplot(x=list(models.keys()), y=list(models.values()))"
      ],
      "execution_count": 137,
      "outputs": [
        {
          "output_type": "execute_result",
          "data": {
            "text/plain": [
              "<matplotlib.axes._subplots.AxesSubplot at 0x7f1785d6bd10>"
            ]
          },
          "metadata": {
            "tags": []
          },
          "execution_count": 137
        },
        {
          "output_type": "display_data",
          "data": {
            "image/png": "[encoded data removed]",
            "text/plain": [
              "<Figure size 432x288 with 1 Axes>"
            ]
          },
          "metadata": {
            "tags": [],
            "needs_background": "light"
          }
        }
      ]
    },
    {
      "cell_type": "markdown",
      "metadata": {
        "id": "Nf3lPZDAvmK9"
      },
      "source": [
        "## **SELECTING MODEL:**\n",
        "Clearly the best model to predict the test set on is random forest. Random forest has an F1_score of 99.159. "
      ]
    },
    {
      "cell_type": "markdown",
      "metadata": {
        "id": "ipB0sNQDygKR"
      },
      "source": [
        "## **FINAL MODEL: RANDOM FOREST**"
      ]
    },
    {
      "cell_type": "code",
      "metadata": {
        "colab": {
          "base_uri": "https://localhost:8080/"
        },
        "id": "LqEOoFfSwYjQ",
        "outputId": "587064fc-451c-46c8-c8cd-6e53dba26119"
      },
      "source": [
        "#predicting the test set\n",
        "Y_pred = forest.predict(test_x)\n",
        "\n",
        "#accuracy on validation set\n",
        "print(\"accuray on validation set\",accuracy_score(test_y,Y_pred),\"\\n\")\n",
        "\n",
        "#precision on validation set\n",
        "print(\"precision on validation set\",precision_score(test_y,Y_pred),\"\\n\")\n",
        "\n",
        "#recall on validation set\n",
        "print(\"recall on validation set\",recall_score(test_y,Y_pred),\"\\n\")\n",
        "\n",
        "#F1 score on validation set\n",
        "print(\"F1 score of validation set\",f1_score(test_y,Y_pred),\"\\n\")"
      ],
      "execution_count": 140,
      "outputs": [
        {
          "output_type": "stream",
          "text": [
            "accuray on validation set 0.9529411764705882 \n",
            "\n",
            "precision on validation set 0.9782608695652174 \n",
            "\n",
            "recall on validation set 0.9375 \n",
            "\n",
            "F1 score of validation set 0.9574468085106383 \n",
            "\n"
          ],
          "name": "stdout"
        }
      ]
    },
    {
      "cell_type": "markdown",
      "metadata": {
        "id": "MlY6UZ6OViZp"
      },
      "source": [
        "## **CLASSIFICATION REPORT**"
      ]
    },
    {
      "cell_type": "code",
      "metadata": {
        "colab": {
          "base_uri": "https://localhost:8080/"
        },
        "id": "g7ELsIozVt6h",
        "outputId": "ee470b19-6609-4549-e5f2-aab111155efd"
      },
      "source": [
        "from sklearn.metrics import classification_report\n",
        "target_names = ['non_cancerous', 'cancerous']\n",
        "print(classification_report(test_y, Y_pred, target_names=target_names))"
      ],
      "execution_count": 141,
      "outputs": [
        {
          "output_type": "stream",
          "text": [
            "               precision    recall  f1-score   support\n",
            "\n",
            "non-cancerous       0.92      0.97      0.95        37\n",
            "    cancerous       0.98      0.94      0.96        48\n",
            "\n",
            "     accuracy                           0.95        85\n",
            "    macro avg       0.95      0.96      0.95        85\n",
            " weighted avg       0.95      0.95      0.95        85\n",
            "\n"
          ],
          "name": "stdout"
        }
      ]
    }
  ]
}
